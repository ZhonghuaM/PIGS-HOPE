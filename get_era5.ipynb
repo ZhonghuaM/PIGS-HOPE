{
 "cells": [
  {
   "cell_type": "code",
   "execution_count": 2,
   "id": "ece0940f-4107-4546-bb5c-1ce6b3a5ef88",
   "metadata": {},
   "outputs": [
    {
     "ename": "Exception",
     "evalue": "Missing/incomplete configuration file: /Users/zhonghuam/.cdsapirc",
     "output_type": "error",
     "traceback": [
      "\u001b[0;31m---------------------------------------------------------------------------\u001b[0m",
      "\u001b[0;31mException\u001b[0m                                 Traceback (most recent call last)",
      "Cell \u001b[0;32mIn[2], line 8\u001b[0m\n\u001b[1;32m      5\u001b[0m months \u001b[38;5;241m=\u001b[39m [\u001b[38;5;124mf\u001b[39m\u001b[38;5;124m\"\u001b[39m\u001b[38;5;132;01m{\u001b[39;00mm\u001b[38;5;132;01m:\u001b[39;00m\u001b[38;5;124m02d\u001b[39m\u001b[38;5;132;01m}\u001b[39;00m\u001b[38;5;124m\"\u001b[39m \u001b[38;5;28;01mfor\u001b[39;00m m \u001b[38;5;129;01min\u001b[39;00m \u001b[38;5;28mrange\u001b[39m(\u001b[38;5;241m1\u001b[39m, \u001b[38;5;241m13\u001b[39m)]\n\u001b[1;32m      6\u001b[0m hours  \u001b[38;5;241m=\u001b[39m [\u001b[38;5;124mf\u001b[39m\u001b[38;5;124m\"\u001b[39m\u001b[38;5;132;01m{\u001b[39;00mh\u001b[38;5;132;01m:\u001b[39;00m\u001b[38;5;124m02d\u001b[39m\u001b[38;5;132;01m}\u001b[39;00m\u001b[38;5;124m:00\u001b[39m\u001b[38;5;124m\"\u001b[39m \u001b[38;5;28;01mfor\u001b[39;00m h \u001b[38;5;129;01min\u001b[39;00m \u001b[38;5;28mrange\u001b[39m(\u001b[38;5;241m24\u001b[39m)]\n\u001b[0;32m----> 8\u001b[0m c \u001b[38;5;241m=\u001b[39m cdsapi\u001b[38;5;241m.\u001b[39mClient()\n\u001b[1;32m      9\u001b[0m c\u001b[38;5;241m.\u001b[39mretrieve(\n\u001b[1;32m     10\u001b[0m     \u001b[38;5;124m\"\u001b[39m\u001b[38;5;124mreanalysis-era5-single-levels\u001b[39m\u001b[38;5;124m\"\u001b[39m,\n\u001b[1;32m     11\u001b[0m     {\n\u001b[0;32m   (...)\u001b[0m\n\u001b[1;32m     28\u001b[0m     },\n\u001b[1;32m     29\u001b[0m     \u001b[38;5;124m\"\u001b[39m\u001b[38;5;124mera5_met_2019-2022.nc\u001b[39m\u001b[38;5;124m\"\u001b[39m)\n",
      "File \u001b[0;32m/opt/anaconda3/lib/python3.13/site-packages/cdsapi/api.py:281\u001b[0m, in \u001b[0;36mClient.__new__\u001b[0;34m(cls, url, key, *args, **kwargs)\u001b[0m\n\u001b[1;32m    280\u001b[0m \u001b[38;5;28;01mdef\u001b[39;00m\u001b[38;5;250m \u001b[39m\u001b[38;5;21m__new__\u001b[39m(\u001b[38;5;28mcls\u001b[39m, url\u001b[38;5;241m=\u001b[39m\u001b[38;5;28;01mNone\u001b[39;00m, key\u001b[38;5;241m=\u001b[39m\u001b[38;5;28;01mNone\u001b[39;00m, \u001b[38;5;241m*\u001b[39margs, \u001b[38;5;241m*\u001b[39m\u001b[38;5;241m*\u001b[39mkwargs):\n\u001b[0;32m--> 281\u001b[0m     _, token, _ \u001b[38;5;241m=\u001b[39m get_url_key_verify(url, key, \u001b[38;5;28;01mNone\u001b[39;00m)\n\u001b[1;32m    282\u001b[0m     \u001b[38;5;28;01mif\u001b[39;00m \u001b[38;5;124m\"\u001b[39m\u001b[38;5;124m:\u001b[39m\u001b[38;5;124m\"\u001b[39m \u001b[38;5;129;01min\u001b[39;00m token:\n\u001b[1;32m    283\u001b[0m         \u001b[38;5;28;01mreturn\u001b[39;00m \u001b[38;5;28msuper\u001b[39m()\u001b[38;5;241m.\u001b[39m\u001b[38;5;21m__new__\u001b[39m(\u001b[38;5;28mcls\u001b[39m)\n",
      "File \u001b[0;32m/opt/anaconda3/lib/python3.13/site-packages/cdsapi/api.py:69\u001b[0m, in \u001b[0;36mget_url_key_verify\u001b[0;34m(url, key, verify)\u001b[0m\n\u001b[1;32m     66\u001b[0m             verify \u001b[38;5;241m=\u001b[39m \u001b[38;5;28mbool\u001b[39m(\u001b[38;5;28mint\u001b[39m(config\u001b[38;5;241m.\u001b[39mget(\u001b[38;5;124m\"\u001b[39m\u001b[38;5;124mverify\u001b[39m\u001b[38;5;124m\"\u001b[39m, \u001b[38;5;241m1\u001b[39m)))\n\u001b[1;32m     68\u001b[0m \u001b[38;5;28;01mif\u001b[39;00m url \u001b[38;5;129;01mis\u001b[39;00m \u001b[38;5;28;01mNone\u001b[39;00m \u001b[38;5;129;01mor\u001b[39;00m key \u001b[38;5;129;01mis\u001b[39;00m \u001b[38;5;28;01mNone\u001b[39;00m:\n\u001b[0;32m---> 69\u001b[0m     \u001b[38;5;28;01mraise\u001b[39;00m \u001b[38;5;167;01mException\u001b[39;00m(\u001b[38;5;124m\"\u001b[39m\u001b[38;5;124mMissing/incomplete configuration file: \u001b[39m\u001b[38;5;132;01m%s\u001b[39;00m\u001b[38;5;124m\"\u001b[39m \u001b[38;5;241m%\u001b[39m (dotrc))\n\u001b[1;32m     71\u001b[0m \u001b[38;5;66;03m# If verify is still None, then we set to default value of True\u001b[39;00m\n\u001b[1;32m     72\u001b[0m \u001b[38;5;28;01mif\u001b[39;00m verify \u001b[38;5;129;01mis\u001b[39;00m \u001b[38;5;28;01mNone\u001b[39;00m:\n",
      "\u001b[0;31mException\u001b[0m: Missing/incomplete configuration file: /Users/zhonghuam/.cdsapirc"
     ]
    }
   ],
   "source": [
    "# pip install cdsapi\n",
    "import cdsapi, itertools\n",
    "\n",
    "years  = [str(y) for y in range(2019, 2023)]\n",
    "months = [f\"{m:02d}\" for m in range(1, 13)]\n",
    "hours  = [f\"{h:02d}:00\" for h in range(24)]\n",
    "\n",
    "c = cdsapi.Client()\n",
    "c.retrieve(\n",
    "    \"reanalysis-era5-single-levels\",\n",
    "    {\n",
    "        \"product_type\": \"reanalysis\",\n",
    "        \"format\": \"netcdf\",\n",
    "        \"variable\": [\n",
    "            \"boundary_layer_height\",      # BLH (m)\n",
    "            \"total_precipitation\",        # TP  (m)\n",
    "            \"10m_u_component_of_wind\",\n",
    "            \"10m_v_component_of_wind\",\n",
    "            \"2m_temperature\",\n",
    "            \"2m_dewpoint_temperature\"\n",
    "        ],\n",
    "        \"year\": years,\n",
    "        \"month\": months,\n",
    "        \"day\": \"01\",\n",
    "        \"time\": hours,\n",
    "        # optional: restrict spatial extent (N/W/S/E):\n",
    "        # \"area\": \"60/-15/30/10\",\n",
    "    },\n",
    "    \"era5_met_2019-2022.nc\")"
   ]
  },
  {
   "cell_type": "code",
   "execution_count": 4,
   "id": "fae8fd47-265d-46a3-ba3e-6d7f77c00c34",
   "metadata": {},
   "outputs": [
    {
     "name": "stderr",
     "output_type": "stream",
     "text": [
      "2025-07-17 18:05:12,667 INFO [2024-09-26T00:00:00] Watch our [Forum](https://forum.ecmwf.int/) for Announcements, news and other discussed topics.\n",
      "2025-07-17 18:05:13,211 INFO Request ID is 35eb7461-5eb6-4506-8a95-ee65ebc54570\n",
      "2025-07-17 18:05:13,302 INFO status has been updated to accepted\n",
      "2025-07-17 18:05:27,730 INFO status has been updated to running\n",
      "2025-07-17 18:05:35,574 INFO status has been updated to successful\n"
     ]
    },
    {
     "data": {
      "application/vnd.jupyter.widget-view+json": {
       "model_id": "1bda4693a14b48cdbf955b5c0837a1db",
       "version_major": 2,
       "version_minor": 0
      },
      "text/plain": [
       "ebb13e9199bd36e02e62fd1f7f2d4a9f.nc:   0%|          | 0.00/25.0k [00:00<?, ?B/s]"
      ]
     },
     "metadata": {},
     "output_type": "display_data"
    },
    {
     "name": "stdout",
     "output_type": "stream",
     "text": [
      "✓ API connection and licence OK – tiny file saved.\n"
     ]
    }
   ],
   "source": [
    "import cdsapi, pathlib\n",
    "\n",
    "c = cdsapi.Client()                 # reads ~/.cdsapirc\n",
    "\n",
    "c.retrieve(\n",
    "    \"reanalysis-era5-single-levels\",\n",
    "    {\n",
    "        \"product_type\": \"reanalysis\",\n",
    "        \"variable\":    \"total_precipitation\",\n",
    "        \"year\":        \"2024\",\n",
    "        \"month\":       \"01\",\n",
    "        \"day\":         \"01\",\n",
    "        \"time\":        \"00:00\",\n",
    "        \"area\":        \"80/0/80/0\",   # N/W/S/E – a 1-point polar box ⇒ tiny file\n",
    "        \"format\":      \"netcdf\",\n",
    "    },\n",
    "    \"era5_ping.nc\"\n",
    ")\n",
    "\n",
    "print(\"✓ API connection and licence OK – tiny file saved.\")"
   ]
  },
  {
   "cell_type": "code",
   "execution_count": 6,
   "id": "0ae50329-22ad-4165-88a7-fc912460e983",
   "metadata": {},
   "outputs": [
    {
     "name": "stderr",
     "output_type": "stream",
     "text": [
      "2025-07-17 23:09:43,543 INFO [2024-09-26T00:00:00] Watch our [Forum](https://forum.ecmwf.int/) for Announcements, news and other discussed topics.\n",
      "2025-07-17 23:09:44,309 INFO Request ID is b12f68f5-c3fb-4200-9cf9-a16d481fcc83\n",
      "2025-07-17 23:09:44,409 INFO status has been updated to accepted\n",
      "2025-07-17 23:09:58,163 INFO status has been updated to running\n",
      "Recovering from connection error [HTTPSConnectionPool(host='cds.climate.copernicus.eu', port=443): Max retries exceeded with url: /api/retrieve/v1/jobs/b12f68f5-c3fb-4200-9cf9-a16d481fcc83?log=True&request=True (Caused by NameResolutionError(\"<urllib3.connection.HTTPSConnection object at 0x112329590>: Failed to resolve 'cds.climate.copernicus.eu' ([Errno 8] nodename nor servname provided, or not known)\"))], attempt 1 of 500\n",
      "Retrying in 120 seconds\n",
      "2025-07-17 23:24:17,032 INFO The 'netcdf_legacy' format is deprecated and no longer supported. Users are encouraged to update workflows to use the updated, and CF compliant, 'netcdf' option.\n",
      "2025-07-17 23:24:17,033 INFO status has been updated to successful\n"
     ]
    },
    {
     "data": {
      "application/vnd.jupyter.widget-view+json": {
       "model_id": "ae48c3d651f1489f9537faa92ff46944",
       "version_major": 2,
       "version_minor": 0
      },
      "text/plain": [
       "46e879ed366ee4c2c360078995ba2f60.nc:   0%|          | 0.00/56.4M [00:00<?, ?B/s]"
      ]
     },
     "metadata": {},
     "output_type": "display_data"
    },
    {
     "data": {
      "text/plain": [
       "'era5_drv_wetdry_2019-2022.nc'"
      ]
     },
     "execution_count": 6,
     "metadata": {},
     "output_type": "execute_result"
    }
   ],
   "source": [
    "import cdsapi\n",
    "c = cdsapi.Client()\n",
    "\n",
    "c.retrieve(\n",
    "    \"reanalysis-era5-single-levels\",\n",
    "    {\n",
    "        \"product_type\": \"reanalysis\",\n",
    "        \"format\": \"netcdf\",\n",
    "        \"data_format\":  \"netcdf_legacy\",\n",
    "        \"area\": \"45/-10/34/4\",          # N/W/S/E\n",
    "        \"year\":  [\"2019\",\"2020\",\"2021\",\"2022\"],\n",
    "        \"month\": [f\"{m:02d}\" for m in range(1,13)],\n",
    "        \"day\":   \"01\",\n",
    "        \"time\":  [f\"{h:02d}:00\" for h in range(24)],\n",
    "        \"variable\": [\n",
    "            # --- dry deposition ---\n",
    "            \"boundary_layer_height\",\n",
    "            \"friction_velocity\",\n",
    "            \"10m_u_component_of_wind\",\n",
    "            \"10m_v_component_of_wind\",\n",
    "            \"2m_temperature\",\n",
    "            \"2m_dewpoint_temperature\",\n",
    "            \"surface_roughness_length\",\n",
    "            # --- wet deposition ---\n",
    "            \"total_precipitation\",\n",
    "            \"convective_precipitation\",\n",
    "            \"large_scale_precipitation\",\n",
    "            \"total_cloud_cover\"\n",
    "        ]\n",
    "    },\n",
    "    \"era5_drv_wetdry_2019-2022.nc\"\n",
    ")"
   ]
  },
  {
   "cell_type": "code",
   "execution_count": null,
   "id": "4bfa858c-3db1-4c74-826c-21acbe9bc595",
   "metadata": {},
   "outputs": [],
   "source": []
  }
 ],
 "metadata": {
  "kernelspec": {
   "display_name": "Python 3 (ipykernel)",
   "language": "python",
   "name": "python3"
  },
  "language_info": {
   "codemirror_mode": {
    "name": "ipython",
    "version": 3
   },
   "file_extension": ".py",
   "mimetype": "text/x-python",
   "name": "python",
   "nbconvert_exporter": "python",
   "pygments_lexer": "ipython3",
   "version": "3.13.5"
  }
 },
 "nbformat": 4,
 "nbformat_minor": 5
}
